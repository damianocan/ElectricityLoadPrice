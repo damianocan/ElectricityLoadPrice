{
 "cells": [
  {
   "cell_type": "code",
   "execution_count": 13,
   "id": "0d2b3675-aff5-4795-9c1e-358912ea075d",
   "metadata": {},
   "outputs": [],
   "source": [
    "import pandas as pd\n",
    "import numpy as np\n",
    "import matplotlib.pyplot as plt\n",
    "import matplotlib.dates as mdates\n",
    "\n",
    "import seaborn as sns\n",
    "\n",
    "sns.set()"
   ]
  },
  {
   "cell_type": "code",
   "execution_count": 14,
   "id": "87d1753b-a786-4bb3-a252-de0f45f29250",
   "metadata": {},
   "outputs": [],
   "source": [
    "df =  pd.read_excel('../1_Data/datasets/2022_smd_hourly.xlsx' ,sheet_name='ISO NE CA')\n",
    "df['Date'] = df.Date + pd.to_timedelta(df.Hr_End, unit='h')\n",
    "df.sort_values('Date', inplace=True)"
   ]
  },
  {
   "cell_type": "code",
   "execution_count": 15,
   "id": "6bb4bf58-1f9f-4a27-bb66-79433af47fa9",
   "metadata": {},
   "outputs": [],
   "source": [
    "from sklearn.preprocessing import MinMaxScaler\n",
    "from keras.preprocessing.sequence import TimeseriesGenerator\n",
    "from keras.models import Sequential\n",
    "from keras.layers import LSTM, Dense\n",
    "\n",
    "features_considered =  ['DA_Demand', 'DA_EC', 'DA_CC', 'DA_MLC', 'Dry_Bulb', 'Dew_Point', 'RT_Demand']\n",
    "features = df[features_considered]\n",
    "features.index = df.index "
   ]
  },
  {
   "cell_type": "code",
   "execution_count": 16,
   "id": "e6de38e1-5f49-4c8f-9446-65ed870a1569",
   "metadata": {},
   "outputs": [
    {
     "name": "stdout",
     "output_type": "stream",
     "text": [
      "Epoch 1/20\n"
     ]
    },
    {
     "name": "stderr",
     "output_type": "stream",
     "text": [
      "/tmp/ipykernel_6821/4035009412.py:23: UserWarning: `Model.fit_generator` is deprecated and will be removed in a future version. Please use `Model.fit`, which supports generators.\n",
      "  model.fit_generator(generator, epochs=20)\n"
     ]
    },
    {
     "name": "stdout",
     "output_type": "stream",
     "text": [
      "273/273 [==============================] - 3s 8ms/step - loss: 0.0102\n",
      "Epoch 2/20\n",
      "273/273 [==============================] - 2s 8ms/step - loss: 0.0029\n",
      "Epoch 3/20\n",
      "273/273 [==============================] - 2s 8ms/step - loss: 0.0017\n",
      "Epoch 4/20\n",
      "273/273 [==============================] - 2s 8ms/step - loss: 0.0013\n",
      "Epoch 5/20\n",
      "273/273 [==============================] - 2s 8ms/step - loss: 0.0012\n",
      "Epoch 6/20\n",
      "273/273 [==============================] - 2s 8ms/step - loss: 9.3324e-04\n",
      "Epoch 7/20\n",
      "273/273 [==============================] - 2s 8ms/step - loss: 9.1063e-04\n",
      "Epoch 8/20\n",
      "273/273 [==============================] - 2s 8ms/step - loss: 8.0018e-04\n",
      "Epoch 9/20\n",
      "273/273 [==============================] - 2s 8ms/step - loss: 7.8551e-04\n",
      "Epoch 10/20\n",
      "273/273 [==============================] - 2s 8ms/step - loss: 7.3619e-04\n",
      "Epoch 11/20\n",
      "273/273 [==============================] - 2s 8ms/step - loss: 6.9702e-04\n",
      "Epoch 12/20\n",
      "273/273 [==============================] - 2s 8ms/step - loss: 6.5023e-04\n",
      "Epoch 13/20\n",
      "273/273 [==============================] - 2s 9ms/step - loss: 6.2259e-04\n",
      "Epoch 14/20\n",
      "273/273 [==============================] - 2s 8ms/step - loss: 5.1528e-04\n",
      "Epoch 15/20\n",
      "273/273 [==============================] - 2s 8ms/step - loss: 5.9118e-04\n",
      "Epoch 16/20\n",
      "273/273 [==============================] - 2s 8ms/step - loss: 5.0400e-04\n",
      "Epoch 17/20\n",
      "273/273 [==============================] - 2s 8ms/step - loss: 5.1094e-04\n",
      "Epoch 18/20\n",
      "273/273 [==============================] - 2s 8ms/step - loss: 4.4704e-04\n",
      "Epoch 19/20\n",
      "273/273 [==============================] - 2s 8ms/step - loss: 4.4157e-04\n",
      "Epoch 20/20\n",
      "273/273 [==============================] - 2s 8ms/step - loss: 4.2558e-04\n",
      "1/1 [==============================] - 0s 81ms/step\n"
     ]
    }
   ],
   "source": [
    "# normalize features\n",
    "scaler_features = MinMaxScaler(feature_range=(0, 1))\n",
    "scaled_features = scaler_features.fit_transform(features)\n",
    "\n",
    "# separate scaler for the target variable to avoid shape issues \n",
    "target = df['System_Load'].values.reshape(-1, 1)\n",
    "scaler_target = MinMaxScaler(feature_range=(0, 1))\n",
    "scaled_target = scaler_target.fit_transform(target)\n",
    "\n",
    "# create data sequences\n",
    "look_back = 24  \n",
    "batch_size = 32  \n",
    "\n",
    "# create the generator for the LSTM input\n",
    "generator = TimeseriesGenerator(scaled_features, scaled_target,\n",
    "                                length=look_back, batch_size=batch_size)\n",
    "\n",
    "model = Sequential()\n",
    "model.add(LSTM(50, activation='relu', input_shape=(look_back, len(features_considered))))\n",
    "model.add(Dense(1))\n",
    "model.compile(optimizer='adam', loss='mse')\n",
    "\n",
    "model.fit_generator(generator, epochs=20)\n",
    "\n",
    "last_24_hours_features = scaled_features[-look_back:]  \n",
    "last_24_hours_features = last_24_hours_features.reshape((1, look_back, len(features_considered)))\n",
    "\n",
    "predicted_demand_scaled = model.predict(last_24_hours_features)\n",
    "\n",
    "predicted_demand = scaler_target.inverse_transform(predicted_demand_scaled)"
   ]
  },
  {
   "cell_type": "markdown",
   "id": "e70a314f-8421-4b47-b7b7-5632f4c446c5",
   "metadata": {},
   "source": [
    "# Predict the Next 24 Hours"
   ]
  },
  {
   "cell_type": "code",
   "execution_count": 17,
   "id": "3c8ec9b0-fabe-4f67-af1c-495bdb0ee975",
   "metadata": {},
   "outputs": [
    {
     "name": "stdout",
     "output_type": "stream",
     "text": [
      "1/1 [==============================] - 0s 13ms/step\n",
      "1/1 [==============================] - 0s 13ms/step\n",
      "1/1 [==============================] - 0s 14ms/step\n",
      "1/1 [==============================] - 0s 13ms/step\n",
      "1/1 [==============================] - 0s 13ms/step\n",
      "1/1 [==============================] - 0s 12ms/step\n",
      "1/1 [==============================] - 0s 13ms/step\n",
      "1/1 [==============================] - 0s 12ms/step\n",
      "1/1 [==============================] - 0s 13ms/step\n",
      "1/1 [==============================] - 0s 13ms/step\n",
      "1/1 [==============================] - 0s 12ms/step\n",
      "1/1 [==============================] - 0s 11ms/step\n",
      "1/1 [==============================] - 0s 12ms/step\n",
      "1/1 [==============================] - 0s 12ms/step\n",
      "1/1 [==============================] - 0s 12ms/step\n",
      "1/1 [==============================] - 0s 12ms/step\n",
      "1/1 [==============================] - 0s 13ms/step\n",
      "1/1 [==============================] - 0s 13ms/step\n",
      "1/1 [==============================] - 0s 12ms/step\n",
      "1/1 [==============================] - 0s 13ms/step\n",
      "1/1 [==============================] - 0s 12ms/step\n",
      "1/1 [==============================] - 0s 13ms/step\n",
      "1/1 [==============================] - 0s 13ms/step\n",
      "1/1 [==============================] - 0s 13ms/step\n"
     ]
    }
   ],
   "source": [
    "input_features = last_24_hours_features.copy()\n",
    "\n",
    "predicted_demand_scaled = []\n",
    "\n",
    "for i in range(24):  \n",
    "    current_pred = model.predict(input_features)\n",
    "    predicted_demand_scaled.append(current_pred[0, 0]) \n",
    "    \n",
    "    new_input = np.roll(input_features, -1, axis=1)  # Shift everything one step to the left\n",
    "    new_input[0, -1, :] = current_pred  # set the last step to the new prediction\n",
    "    \n",
    "    input_features = new_input  \n",
    "\n",
    "# Reshape the predictions to match the scaler's expected input\n",
    "predicted_demand_scaled = np.array(predicted_demand_scaled).reshape(-1, 1)\n",
    "predicted_demand = scaler_target.inverse_transform(predicted_demand_scaled)"
   ]
  },
  {
   "cell_type": "code",
   "execution_count": 23,
   "id": "0d592cb8-3420-432f-8221-c76d06104e58",
   "metadata": {},
   "outputs": [
    {
     "data": {
      "image/png": "[encoded data removed]",
      "text/plain": [
       "<Figure size 1000x600 with 1 Axes>"
      ]
     },
     "metadata": {},
     "output_type": "display_data"
    }
   ],
   "source": [
    "# Assuming you have actual demand data for the corresponding future 24 hours\n",
    "actual_demand = df['System_Load'][-24:].values  \n",
    "\n",
    "plt.figure(figsize=(10, 6))\n",
    "plt.plot(range(24), actual_demand, label='Actual Demand', marker='o')\n",
    "plt.plot(range(24), predicted_demand.flatten(), label='Forecasted Demand', marker='x', linestyle='--')\n",
    "plt.title('24-Hour Forecast vs Actuals')\n",
    "plt.xlabel('Hours')\n",
    "plt.ylabel('Demand')\n",
    "plt.legend()\n",
    "plt.show()"
   ]
  },
  {
   "cell_type": "code",
   "execution_count": 24,
   "id": "e2d797ab-7d33-4065-91a4-ef807f741a1a",
   "metadata": {},
   "outputs": [
    {
     "name": "stdout",
     "output_type": "stream",
     "text": [
      "MAE: 2999.930623372396\n",
      "MSE: 10307412.22022599\n",
      "RMSE: 3210.515880699859\n",
      "R-squared: -3.864885621092175\n"
     ]
    }
   ],
   "source": [
    "from sklearn.metrics import mean_absolute_error, mean_squared_error, r2_score\n",
    "\n",
    "mae = mean_absolute_error(actual_demand, predicted_demand)\n",
    "mse = mean_squared_error(actual_demand, predicted_demand)\n",
    "rmse = np.sqrt(mse)\n",
    "r_squared = r2_score(actual_demand, predicted_demand)\n",
    "\n",
    "print(f\"MAE: {mae}\")\n",
    "print(f\"MSE: {mse}\")\n",
    "print(f\"RMSE: {rmse}\")\n",
    "print(f\"R-squared: {r_squared}\")"
   ]
  },
  {
   "cell_type": "code",
   "execution_count": 20,
   "id": "0a59b8e6-64bc-4052-b509-65ca255140bc",
   "metadata": {},
   "outputs": [],
   "source": [
    "from sklearn.model_selection import train_test_split\n",
    "\n",
    "# Assuming `scaled_features` and `scaled_target` are your features and target arrays\n",
    "X_train, X_test, y_train, y_test = train_test_split(scaled_features, scaled_target, test_size=0.2, random_state=42)\n",
    "\n",
    "# Now create generators for both training and testing\n",
    "train_generator = TimeseriesGenerator(X_train, y_train, length=look_back, batch_size=batch_size)\n",
    "test_generator = TimeseriesGenerator(X_test, y_test, length=look_back, batch_size=batch_size)\n"
   ]
  },
  {
   "cell_type": "code",
   "execution_count": 21,
   "id": "ec2bf0cb-8bbd-4f9a-9295-b932506aebc7",
   "metadata": {},
   "outputs": [
    {
     "name": "stdout",
     "output_type": "stream",
     "text": [
      "Epoch 1/20\n",
      " 13/219 [>.............................] - ETA: 1s - loss: 0.0574"
     ]
    },
    {
     "name": "stderr",
     "output_type": "stream",
     "text": [
      "/tmp/ipykernel_6821/993774087.py:1: UserWarning: `Model.fit_generator` is deprecated and will be removed in a future version. Please use `Model.fit`, which supports generators.\n",
      "  model.fit_generator(train_generator, epochs=20)\n"
     ]
    },
    {
     "name": "stdout",
     "output_type": "stream",
     "text": [
      "219/219 [==============================] - 2s 8ms/step - loss: 0.0311\n",
      "Epoch 2/20\n",
      "219/219 [==============================] - 2s 8ms/step - loss: 0.0288\n",
      "Epoch 3/20\n",
      "219/219 [==============================] - 2s 9ms/step - loss: 0.0287\n",
      "Epoch 4/20\n",
      "219/219 [==============================] - 2s 8ms/step - loss: 0.0286\n",
      "Epoch 5/20\n",
      "219/219 [==============================] - 2s 8ms/step - loss: 0.0286\n",
      "Epoch 6/20\n",
      "219/219 [==============================] - 2s 8ms/step - loss: 0.0286\n",
      "Epoch 7/20\n",
      "219/219 [==============================] - 2s 8ms/step - loss: 0.0286\n",
      "Epoch 8/20\n",
      "219/219 [==============================] - 2s 8ms/step - loss: 0.0286\n",
      "Epoch 9/20\n",
      "219/219 [==============================] - 2s 8ms/step - loss: 0.0285\n",
      "Epoch 10/20\n",
      "219/219 [==============================] - 2s 8ms/step - loss: 0.0286\n",
      "Epoch 11/20\n",
      "219/219 [==============================] - 2s 8ms/step - loss: 0.0287\n",
      "Epoch 12/20\n",
      "219/219 [==============================] - 2s 8ms/step - loss: 0.0285\n",
      "Epoch 13/20\n",
      "219/219 [==============================] - 2s 8ms/step - loss: 0.0285\n",
      "Epoch 14/20\n",
      "219/219 [==============================] - 2s 8ms/step - loss: 0.0285\n",
      "Epoch 15/20\n",
      "219/219 [==============================] - 2s 8ms/step - loss: 0.0286\n",
      "Epoch 16/20\n",
      "219/219 [==============================] - 2s 8ms/step - loss: 0.0285\n",
      "Epoch 17/20\n",
      "219/219 [==============================] - 2s 8ms/step - loss: 0.0286\n",
      "Epoch 18/20\n",
      "219/219 [==============================] - 2s 8ms/step - loss: 0.0285\n",
      "Epoch 19/20\n",
      "219/219 [==============================] - 2s 8ms/step - loss: 0.0285\n",
      "Epoch 20/20\n",
      "219/219 [==============================] - 2s 8ms/step - loss: 0.0285\n"
     ]
    },
    {
     "data": {
      "text/plain": [
       "<keras.callbacks.History at 0x7fed99637fa0>"
      ]
     },
     "execution_count": 21,
     "metadata": {},
     "output_type": "execute_result"
    }
   ],
   "source": [
    "model.fit_generator(train_generator, epochs=20)"
   ]
  },
  {
   "cell_type": "code",
   "execution_count": 22,
   "id": "59c8287c-cdb9-4575-9b4e-b0bc1d68d455",
   "metadata": {},
   "outputs": [
    {
     "name": "stdout",
     "output_type": "stream",
     "text": [
      "54/54 [==============================] - 0s 3ms/step\n",
      "54/54 [==============================] - 0s 3ms/step\n",
      "54/54 [==============================] - 0s 3ms/step\n",
      "54/54 [==============================] - 0s 3ms/step\n",
      "54/54 [==============================] - 0s 3ms/step\n",
      "54/54 [==============================] - 0s 3ms/step\n",
      "54/54 [==============================] - 0s 3ms/step\n",
      "54/54 [==============================] - 0s 3ms/step\n",
      "54/54 [==============================] - 0s 3ms/step\n",
      "54/54 [==============================] - 0s 3ms/step\n",
      "54/54 [==============================] - 0s 3ms/step\n",
      "54/54 [==============================] - 0s 3ms/step\n",
      "54/54 [==============================] - 0s 3ms/step\n",
      "54/54 [==============================] - 0s 3ms/step\n",
      "54/54 [==============================] - 0s 3ms/step\n",
      "54/54 [==============================] - 0s 3ms/step\n",
      "54/54 [==============================] - 0s 3ms/step\n",
      "54/54 [==============================] - 0s 3ms/step\n",
      "54/54 [==============================] - 0s 3ms/step\n",
      "54/54 [==============================] - 0s 3ms/step\n",
      "54/54 [==============================] - 0s 3ms/step\n",
      "54/54 [==============================] - 0s 3ms/step\n",
      "Feature importances: [3.9378163986709264e-05, -1.7851647362308876e-05, -1.1584101128753188e-05, -3.1470893095297825e-05, -1.787425958163502e-05, 9.767107975180989e-05, 0.0002245185770766156]\n"
     ]
    }
   ],
   "source": [
    "def calculate_importance(X, y, model, repeats=3):\n",
    "    baseline_mse = mean_squared_error(y, model.predict(X))\n",
    "    importances = []\n",
    "\n",
    "    for i in range(X.shape[2]):  # Iterate over each feature\n",
    "        mse_scores = []\n",
    "        for _ in range(repeats):  # Repeat the permutation process\n",
    "            X_permuted = X.copy()\n",
    "            np.random.shuffle(X_permuted[:, :, i])\n",
    "            mse_permuted = mean_squared_error(y, model.predict(X_permuted))\n",
    "            mse_scores.append(mse_permuted)\n",
    "        \n",
    "        # Calculate the importance as the increase in mse error\n",
    "        importance = np.mean(mse_scores) - baseline_mse\n",
    "        importances.append(importance)\n",
    "    \n",
    "    return importances\n",
    "\n",
    "X_test_reshaped, y_test_reshaped = zip(*[test_generator[i] for i in range(len(test_generator))])\n",
    "X_test_reshaped = np.vstack(X_test_reshaped)  \n",
    "y_test_reshaped = np.vstack(y_test_reshaped)  \n",
    "\n",
    "feature_importances = calculate_importance(X_test_reshaped, y_test_reshaped.flatten(), model, repeats=3)\n",
    "\n",
    "print(\"Feature importances:\", feature_importances)\n"
   ]
  },
  {
   "cell_type": "code",
   "execution_count": null,
   "id": "56ca8189-b782-4d21-bbcd-dcafd2bee0b5",
   "metadata": {},
   "outputs": [],
   "source": []
  }
 ],
 "metadata": {
  "kernelspec": {
   "display_name": "Python 3 (ipykernel)",
   "language": "python",
   "name": "python3"
  },
  "language_info": {
   "codemirror_mode": {
    "name": "ipython",
    "version": 3
   },
   "file_extension": ".py",
   "mimetype": "text/x-python",
   "name": "python",
   "nbconvert_exporter": "python",
   "pygments_lexer": "ipython3",
   "version": "3.10.6"
  }
 },
 "nbformat": 4,
 "nbformat_minor": 5
}
