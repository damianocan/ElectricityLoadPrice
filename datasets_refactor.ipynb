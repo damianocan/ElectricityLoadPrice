{
 "cells": [
  {
   "cell_type": "code",
   "execution_count": null,
   "id": "4d12fbc9-c90b-4425-8e38-f80b5b6b2b3d",
   "metadata": {},
   "outputs": [],
   "source": [
    "import pandas as pd\n",
    "import glob\n",
    "\n",
    "all_files = glob.glob('datasets/*.xlsx')\n",
    "\n",
    "li = []\n",
    "\n",
    "for filename in all_files:\n",
    "    frame = pd.read_excel(filename,sheet_name='ISO NE CA')\n",
    "    li.append(frame)\n",
    "\n",
    "df = pd.concat(li, axis=0, ignore_index=True)\n",
    "df.sort_values('Date', inplace=True)\n",
    "df['Date'] = df.Date + pd.to_timedelta(df.Hr_End, unit='h')\n",
    "# df.set_index('Date', inplace=True)\n",
    "# df.index = pd.DatetimeIndex(df.index).to_period('H')"
   ]
  },
  {
   "cell_type": "code",
   "execution_count": null,
   "id": "8c186b34-870d-416c-9c08-ec3c93f9b141",
   "metadata": {},
   "outputs": [],
   "source": [
    "df.info()"
   ]
  },
  {
   "cell_type": "code",
   "execution_count": null,
   "id": "7c09ac1a-cd92-4a4c-8a15-ec81b9e6b206",
   "metadata": {},
   "outputs": [],
   "source": [
    "df[['Date','RT_Demand']].sort_values('Date')"
   ]
  },
  {
   "cell_type": "code",
   "execution_count": null,
   "id": "dfec80da-d21f-4949-8196-68a9378a774c",
   "metadata": {},
   "outputs": [],
   "source": [
    "df"
   ]
  },
  {
   "cell_type": "code",
   "execution_count": null,
   "id": "f72a2004-7996-4606-a98e-d2a249bf67bc",
   "metadata": {},
   "outputs": [],
   "source": [
    "df.to_csv('datasets/from2018.csv')"
   ]
  },
  {
   "cell_type": "code",
   "execution_count": null,
   "id": "4b53ca3a-1d59-4712-a23a-4ea078124f75",
   "metadata": {},
   "outputs": [],
   "source": []
  }
 ],
 "metadata": {
  "kernelspec": {
   "display_name": "Python 3 (ipykernel)",
   "language": "python",
   "name": "python3"
  },
  "language_info": {
   "codemirror_mode": {
    "name": "ipython",
    "version": 3
   },
   "file_extension": ".py",
   "mimetype": "text/x-python",
   "name": "python",
   "nbconvert_exporter": "python",
   "pygments_lexer": "ipython3",
   "version": "3.10.6"
  }
 },
 "nbformat": 4,
 "nbformat_minor": 5
}
