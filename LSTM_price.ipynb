{
 "cells": [
  {
   "cell_type": "code",
   "execution_count": null,
   "id": "0d2b3675-aff5-4795-9c1e-358912ea075d",
   "metadata": {},
   "outputs": [],
   "source": [
    "import pandas as pd\n",
    "import numpy as np\n",
    "import matplotlib.pyplot as plt\n",
    "import matplotlib.dates as mdates\n",
    "\n",
    "import seaborn as sns\n",
    "\n",
    "sns.set()"
   ]
  },
  {
   "cell_type": "code",
   "execution_count": null,
   "id": "87d1753b-a786-4bb3-a252-de0f45f29250",
   "metadata": {},
   "outputs": [],
   "source": [
    "df =  pd.read_excel('../1_Data/datasets/2022_smd_hourly.xlsx' ,sheet_name='ISO NE CA')\n",
    "df['Date'] = df.Date + pd.to_timedelta(df.Hr_End, unit='h')\n",
    "df.sort_values('Date', inplace=True)\n",
    "\n",
    "train_size = int(len(df) * 0.91)\n",
    "df = df.iloc[:train_size]"
   ]
  },
  {
   "cell_type": "code",
   "execution_count": null,
   "id": "6bb4bf58-1f9f-4a27-bb66-79433af47fa9",
   "metadata": {},
   "outputs": [],
   "source": [
    "from sklearn.preprocessing import MinMaxScaler\n",
    "from keras.preprocessing.sequence import TimeseriesGenerator\n",
    "from keras.models import Sequential\n",
    "from keras.layers import LSTM, Dense\n",
    "from keras.layers import Dropout\n",
    "from keras.optimizers import Adam\n",
    "\n",
    "\n",
    "features_considered = ['DA_LMP', 'DA_EC', 'DA_MLC', 'DA_Demand', 'Dry_Bulb', 'RT_Demand', 'System_Load'] \n",
    "features = df[features_considered]\n",
    "features.index = df.index  "
   ]
  },
  {
   "cell_type": "code",
   "execution_count": null,
   "id": "e6de38e1-5f49-4c8f-9446-65ed870a1569",
   "metadata": {},
   "outputs": [],
   "source": [
    "scaler_features = MinMaxScaler(feature_range=(0, 1))\n",
    "scaled_features = scaler_features.fit_transform(features)\n",
    "\n",
    "target = df['RT_LMP'].values.reshape(-1, 1)\n",
    "scaler_target = MinMaxScaler(feature_range=(0, 1))\n",
    "scaled_target = scaler_target.fit_transform(target)\n",
    "\n",
    "look_back = 24  \n",
    "batch_size = 50  \n",
    "\n",
    "generator = TimeseriesGenerator(scaled_features, scaled_target,\n",
    "                                length=look_back, batch_size=batch_size)\n",
    "\n",
    "model = Sequential([\n",
    "    LSTM(100, activation='tanh', return_sequences=True, input_shape=(look_back, len(features_considered))),\n",
    "    Dense(1)\n",
    "])\n",
    "optimizer = Adam(learning_rate=0.001)\n",
    "model.compile(optimizer=optimizer, loss='mse', metrics=['mae'])\n",
    "\n",
    "model.fit_generator(generator, epochs=10)\n",
    "\n",
    "last_24_hours_features = scaled_features[-look_back:]  \n",
    "last_24_hours_features = last_24_hours_features.reshape((1, look_back, len(features_considered)))\n",
    "\n",
    "predicted_demand_scaled = model.predict(last_24_hours_features)\n",
    "\n",
    "predicted_demand = scaler_target.inverse_transform(predicted_demand_scaled)"
   ]
  },
  {
   "cell_type": "markdown",
   "id": "e70a314f-8421-4b47-b7b7-5632f4c446c5",
   "metadata": {},
   "source": [
    "# Predict the Next 24 Hours"
   ]
  },
  {
   "cell_type": "code",
   "execution_count": null,
   "id": "3c8ec9b0-fabe-4f67-af1c-495bdb0ee975",
   "metadata": {},
   "outputs": [],
   "source": [
    "input_features = last_24_hours_features.copy()\n",
    "\n",
    "predicted_demand_scaled = []\n",
    "\n",
    "for i in range(24):  \n",
    "    current_pred = model.predict(input_features)\n",
    "    predicted_demand_scaled.append(current_pred[0, 0])  \n",
    "    \n",
    "    new_input = np.roll(input_features, -1, axis=1)  \n",
    "    new_input[0, -1, :] = current_pred  \n",
    "    \n",
    "    input_features = new_input  \n",
    "\n",
    "predicted_demand_scaled = np.array(predicted_demand_scaled).reshape(-1, 1)\n",
    "predicted_demand = scaler_target.inverse_transform(predicted_demand_scaled)"
   ]
  },
  {
   "cell_type": "code",
   "execution_count": null,
   "id": "0d592cb8-3420-432f-8221-c76d06104e58",
   "metadata": {},
   "outputs": [],
   "source": [
    "actual_demand = df['RT_LMP'][-24:].values  \n",
    "\n",
    "plt.figure(figsize=(10, 6))\n",
    "plt.plot(range(24), actual_demand, label='Actual Price', marker='o')\n",
    "plt.plot(range(24), predicted_demand.flatten(), label='Forecasted Price', marker='x', linestyle='--')\n",
    "plt.title('24-Hour Forecast vs Actuals')\n",
    "plt.xlabel('Hours from Now')\n",
    "plt.ylabel('LMP')\n",
    "plt.legend()\n",
    "plt.show()"
   ]
  },
  {
   "cell_type": "code",
   "execution_count": null,
   "id": "e2d797ab-7d33-4065-91a4-ef807f741a1a",
   "metadata": {},
   "outputs": [],
   "source": [
    "from sklearn.metrics import mean_absolute_error, mean_squared_error, r2_score\n",
    "\n",
    "mae = mean_absolute_error(actual_demand, predicted_demand)\n",
    "mse = mean_squared_error(actual_demand, predicted_demand)\n",
    "rmse = np.sqrt(mse)\n",
    "r_squared = r2_score(actual_demand, predicted_demand)\n",
    "\n",
    "print(f\"MAE: {mae}\")\n",
    "print(f\"MSE: {mse}\")\n",
    "print(f\"RMSE: {rmse}\")\n",
    "print(f\"R-squared: {r_squared}\")"
   ]
  },
  {
   "cell_type": "code",
   "execution_count": null,
   "id": "8a799d89-9575-4937-8b75-7bbcab8d984b",
   "metadata": {},
   "outputs": [],
   "source": []
  }
 ],
 "metadata": {
  "kernelspec": {
   "display_name": "Python 3 (ipykernel)",
   "language": "python",
   "name": "python3"
  },
  "language_info": {
   "codemirror_mode": {
    "name": "ipython",
    "version": 3
   },
   "file_extension": ".py",
   "mimetype": "text/x-python",
   "name": "python",
   "nbconvert_exporter": "python",
   "pygments_lexer": "ipython3",
   "version": "3.10.6"
  }
 },
 "nbformat": 4,
 "nbformat_minor": 5
}
